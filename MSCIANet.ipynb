{
  "nbformat": 4,
  "nbformat_minor": 0,
  "metadata": {
    "colab": {
      "provenance": [],
      "include_colab_link": true
    },
    "kernelspec": {
      "name": "python3",
      "display_name": "Python 3"
    },
    "language_info": {
      "name": "python"
    }
  },
  "cells": [
    {
      "cell_type": "markdown",
      "metadata": {
        "id": "view-in-github",
        "colab_type": "text"
      },
      "source": [
        "<a href=\"https://colab.research.google.com/github/Ameya6514/MPRNet/blob/main/MSCIANet.ipynb\" target=\"_parent\"><img src=\"https://colab.research.google.com/assets/colab-badge.svg\" alt=\"Open In Colab\"/></a>"
      ]
    },
    {
      "cell_type": "code",
      "execution_count": null,
      "metadata": {
        "id": "Y_-lpxcIF9lf"
      },
      "outputs": [],
      "source": [
        "!git clone https://github.com/CoderLi365/MSCIANet.git"
      ]
    },
    {
      "cell_type": "code",
      "source": [
        "import os\n",
        "import cv2\n",
        "import numpy as np\n",
        "import tensorflow as tf"
      ],
      "metadata": {
        "id": "2sLzuJ4MGJGT"
      },
      "execution_count": null,
      "outputs": []
    },
    {
      "cell_type": "code",
      "source": [
        "from google.colab import drive\n",
        "drive.mount('/content/drive')"
      ],
      "metadata": {
        "colab": {
          "base_uri": "https://localhost:8080/"
        },
        "id": "nUa77fQsGs01",
        "outputId": "403bf0dc-1645-4bb4-8f5f-336b1eeb6628"
      },
      "execution_count": null,
      "outputs": [
        {
          "output_type": "stream",
          "name": "stdout",
          "text": [
            "Drive already mounted at /content/drive; to attempt to forcibly remount, call drive.mount(\"/content/drive\", force_remount=True).\n"
          ]
        }
      ]
    },
    {
      "cell_type": "code",
      "source": [
        "model = tf.keras.models.load_model('/content/MSCIANet/model100H')\n",
        "path = '/content/drive/MyDrive/Machine Learning/Internship/Image Restoration/OUCDNet/Dataset/Rainy(input)/test'\n",
        "file_list = os.listdir(path)\n",
        "step = 0\n",
        "for pic in file_list:\n",
        "    p = tf.io.read_file(os.path.join('/content/drive/MyDrive/Machine Learning/Internship/Image Restoration/OUCDNet/Dataset/Rainy(input)/test', pic))\n",
        "\n",
        "    pics_1 = tf.io.decode_image(p)\n",
        "    pics_1 = pics_1.numpy()[np.newaxis,:,:,:]\n",
        "    pics = pics_1/255\n",
        "    a = model.predict(pics)\n",
        "    output_img1 = np.squeeze(a)\n",
        "    output_img = output_img1*255\n",
        "    output_img = output_img[:,:,[2,1,0]]\n",
        "    if not os.path.exists('/content/drive/MyDrive/Machine Learning/Internship/Image Restoration/Output/'):\n",
        "        os.mkdir('/content/drive/MyDrive/Machine Learning/Internship/Image Restoration/Output/')\n",
        "    cv2.imwrite('/content/drive/MyDrive/Machine Learning/Internship/Image Restoration/Output/' + pic,output_img)\n",
        "    step+=1\n",
        "    print('complete: {a}/{b}'.format(a= step , b= len(file_list)))"
      ],
      "metadata": {
        "id": "Uto4L46BIUus"
      },
      "execution_count": null,
      "outputs": []
    }
  ]
}